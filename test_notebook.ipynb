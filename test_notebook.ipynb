{
 "cells": [
  {
   "cell_type": "code",
   "execution_count": null,
   "id": "d288dd3f-ccfb-47fc-9181-9514a89b4667",
   "metadata": {
    "tags": []
   },
   "outputs": [],
   "source": [
    "from pyspark.sql import SparkSession\n",
    "from datetime import datetime\n",
    "import pyspark.sql.functions as F\n",
    "import pyspark.sql.types as t"
   ]
  },
  {
   "cell_type": "code",
   "execution_count": null,
   "id": "9d4ff3de-9691-4257-be60-6066b858064a",
   "metadata": {
    "tags": []
   },
   "outputs": [],
   "source": [
    "spark = SparkSession.builder.config(\"spark.sql.catalogImplementation\",\"in-memory\").getOrCreate()"
   ]
  },
  {
   "cell_type": "code",
   "execution_count": null,
   "id": "fdaf5b8e-b8be-49da-9e38-82125ada86c7",
   "metadata": {
    "tags": []
   },
   "outputs": [],
   "source": [
    "print(dir(spark))"
   ]
  },
  {
   "cell_type": "code",
   "execution_count": null,
   "id": "8eca6974-7edb-43fe-85e4-0c8eea24c4fc",
   "metadata": {
    "tags": []
   },
   "outputs": [],
   "source": [
    "df_song_data = spark.read.json(\"s3://udacity-dend2-mogo/song_data/\")"
   ]
  },
  {
   "cell_type": "code",
   "execution_count": null,
   "id": "f36a4741-9469-4534-82e8-32fc424ebbf8",
   "metadata": {},
   "outputs": [],
   "source": [
    "df_log_data = spark.read.json(\"s3://udacity-dend2-mogo/log_data/\")"
   ]
  },
  {
   "cell_type": "code",
   "execution_count": null,
   "id": "97db3bc8-5d6e-4ef5-8ab8-01ca16134b67",
   "metadata": {
    "tags": []
   },
   "outputs": [],
   "source": [
    "df_song_data.show(5)"
   ]
  },
  {
   "cell_type": "code",
   "execution_count": null,
   "id": "2e662084-7a39-447e-9e9e-98d5f325b6e0",
   "metadata": {},
   "outputs": [],
   "source": [
    "df_log_data.show(5)"
   ]
  },
  {
   "cell_type": "markdown",
   "id": "e53cdba6-12a4-4784-a8cd-0350104c6254",
   "metadata": {},
   "source": [
    "<h3>Create Songs and Artist tables</h3>"
   ]
  },
  {
   "cell_type": "markdown",
   "id": "8675bfa6-9919-4373-8e9e-77463534b498",
   "metadata": {},
   "source": [
    "Create songs table and write it to parquet file"
   ]
  },
  {
   "cell_type": "code",
   "execution_count": null,
   "id": "d7a7c2b6-b719-4a87-b648-45e3eec09332",
   "metadata": {
    "tags": []
   },
   "outputs": [],
   "source": [
    "# Create a songs dataframe view from existing songs dataframe\n",
    "df_song_data.createOrReplaceTempView(\"songs_table_view\")\n",
    "\n",
    "songs_table = spark.sql(\n",
    "    \"SELECT artist_name, song_id, title, artist_id, year, duration FROM songs_table_view\"\n",
    ")\n",
    "songs_table.show(5, False)"
   ]
  },
  {
   "cell_type": "code",
   "execution_count": null,
   "id": "a9412597-3aa5-42c1-9afa-8288dddcf477",
   "metadata": {
    "tags": []
   },
   "outputs": [],
   "source": [
    "# create timestamp attached to each song parquet file\n",
    "now = datetime.now().strftime(\"%Y-%m-%d-%H-%M-%S-%f\")\n",
    "song_table_path = 'songs_table' + '.parquet' + \"_\" + now \n",
    "print(song_table_path)"
   ]
  },
  {
   "cell_type": "code",
   "execution_count": null,
   "id": "9ea052eb-4f76-46d4-b1e7-562b6135ad4f",
   "metadata": {
    "tags": []
   },
   "outputs": [],
   "source": [
    "# Write songs table dataframe view to parquet file\n",
    "songs_table.write.partitionBy(\"year\", \"artist_id\").parquet(\"s3://udacity-dend-mogo-output/\" + song_table_path)"
   ]
  },
  {
   "cell_type": "markdown",
   "id": "4d0f2079-be9f-487c-8917-97694880290b",
   "metadata": {},
   "source": [
    "Create artists table and write it to parquet file"
   ]
  },
  {
   "cell_type": "code",
   "execution_count": null,
   "id": "b886ce66-43de-4d95-825a-0cf00d6e0ce4",
   "metadata": {
    "tags": []
   },
   "outputs": [],
   "source": [
    "# Create a artist dataframe view from existing songs dataframe\n",
    "df_song_data.createOrReplaceTempView(\"artist_table_view\")\n",
    "artist_table = spark.sql(\"\\\n",
    "    SELECT artist_id, artist_name AS name, artist_location AS location, artist_latitude AS latitude, artist_longitude AS longitude\\\n",
    "    FROM artist_table_view \")\n",
    "\n",
    "artist_table.show(1)"
   ]
  },
  {
   "cell_type": "code",
   "execution_count": null,
   "id": "6750510e-166e-43a1-ae3d-ddb9d5a0451c",
   "metadata": {},
   "outputs": [],
   "source": [
    "# create timestamp attached to each artist parquet file\n",
    "now = datetime.now().strftime(\"%Y-%m-%d-%H-%M-%S-%f\")\n",
    "artist_table_path = 'artist_table' + '.parquet' + \"_\" + now \n",
    "print(artist_table_path)"
   ]
  },
  {
   "cell_type": "code",
   "execution_count": null,
   "id": "8dfad5d7-39b9-460b-a26a-615fa844142a",
   "metadata": {},
   "outputs": [],
   "source": [
    "# Write artist table dataframe view to parquet file\n",
    "artist_table.write.partitionBy(\"artist_id\").parquet(\"s3://udacity-dend-mogo-output/\" + artist_table_path)"
   ]
  },
  {
   "cell_type": "markdown",
   "id": "be45f54c-12be-40b0-945c-f40a2d11e7f5",
   "metadata": {},
   "source": [
    "<h3>Create Users, Time, and Songplays tables</h3>"
   ]
  },
  {
   "cell_type": "markdown",
   "id": "810d6462-52ae-4a0f-8fba-14953dd0bcc2",
   "metadata": {},
   "source": [
    "Create Users table and write it to parquet file"
   ]
  },
  {
   "cell_type": "code",
   "execution_count": null,
   "id": "a2f44306-6498-481f-9293-2bd690bc0191",
   "metadata": {
    "tags": []
   },
   "outputs": [],
   "source": [
    "# Filter log data to get only logs where 'page' column is equals to 'NextSong'\n",
    "filtered_ld_df = df_log_data.filter(df_log_data.page == 'NextSong')\n",
    "filtered_ld_df.show(6)"
   ]
  },
  {
   "cell_type": "code",
   "execution_count": null,
   "id": "486dca6b-8944-438a-8cae-040b680ac21c",
   "metadata": {},
   "outputs": [],
   "source": [
    "# Create a artist dataframe view from existing songs dataframe\n",
    "filtered_ld_df.createOrReplaceTempView(\"users_table_view\")\n",
    "user_table = spark.sql(\n",
    "    \"SELECT DISTINCT userId AS user_id, firstName AS first_name, lastName AS last_name, gender, level\\\n",
    "    FROM users_table_view\"\n",
    ")\n",
    "user_table.show(5)"
   ]
  },
  {
   "cell_type": "code",
   "execution_count": null,
   "id": "b80e7e74-db05-48d9-8363-fd1ea4f00d78",
   "metadata": {},
   "outputs": [],
   "source": [
    "# create timestamp attached to each users parquet file\n",
    "now = datetime.now().strftime(\"%Y-%m-%d-%H-%M-%S-%f\")\n",
    "users_table_path = 'users_table' + '.parquet' + \"_\" + now \n",
    "print(users_table_path)"
   ]
  },
  {
   "cell_type": "code",
   "execution_count": null,
   "id": "2f29a225-f9cb-4ac8-8a62-3bf1b0005a77",
   "metadata": {},
   "outputs": [],
   "source": [
    "# Write user table dataframe view to parquet file\n",
    "user_table.write.partitionBy(\"user_id\").parquet(\"s3://udacity-dend-mogo-output/\" + users_table_path)"
   ]
  },
  {
   "cell_type": "markdown",
   "id": "7956a907-9bf2-4007-8d24-334ad931fdd6",
   "metadata": {},
   "source": [
    "Create Time table and write it to parquet file"
   ]
  },
  {
   "cell_type": "code",
   "execution_count": null,
   "id": "8bf68f0f-abc7-471d-a87b-7b1b2bbacf7e",
   "metadata": {
    "tags": []
   },
   "outputs": [],
   "source": [
    "# create a new log_data dataframe where the 'ts' column has been converted to timestamp\n",
    "\n",
    "@F.udf(t.TimestampType())\n",
    "def get_timestamp (ts):\n",
    "    return datetime.fromtimestamp(ts / 1000.0)\n",
    "    \n",
    "filtered_ld_df = filtered_ld_df.withColumn(\"timestamp\", get_timestamp(\"ts\"))\n",
    "filtered_ld_df.printSchema()"
   ]
  },
  {
   "cell_type": "code",
   "execution_count": null,
   "id": "50250164-d9bf-4928-bcb5-3ff2d8b53faf",
   "metadata": {
    "tags": []
   },
   "outputs": [],
   "source": [
    "# create a new log_data dataframe where the 'ts' column has been converted to datetime string\n",
    "@F.udf(t.StringType())\n",
    "def get_datetime (ts):\n",
    "    return datetime.fromtimestamp(ts / 1000.0).strftime('%Y-%m-%d %H:%M:%S')\n",
    "    \n",
    "filtered_ld_df = filtered_ld_df.withColumn(\"datetime\", get_datetime(\"ts\"))\n",
    "                    \n",
    "\n",
    "filtered_ld_df.printSchema()\n",
    "# filtered_ld_df.show(5)"
   ]
  },
  {
   "cell_type": "code",
   "execution_count": null,
   "id": "890ab5a4-82df-4dfc-be4d-7c48fc7283dc",
   "metadata": {
    "tags": []
   },
   "outputs": [],
   "source": [
    "# Create a time dataframe view from existing songs dataframe\n",
    "filtered_ld_df.createOrReplaceTempView(\"time_table_view\")\n",
    "time_table = spark.sql(\n",
    "    \"\"\"SELECT DISTINCT datetime AS start_time, HOUR(timestamp) AS hour, \n",
    "        DAY(timestamp) AS day, WEEKOFYEAR(timestamp) AS week, \n",
    "        MONTH(timestamp) AS month, YEAR(timestamp) AS year, \n",
    "        DAYOFWEEK(timestamp) AS weekday\n",
    "    FROM time_table_view\"\"\"\n",
    ")\n",
    "\n",
    "time_table.show(5)"
   ]
  },
  {
   "cell_type": "code",
   "execution_count": null,
   "id": "027f6074-3196-4594-9fd9-07818b192685",
   "metadata": {},
   "outputs": [],
   "source": [
    "# create timestamp attached to each time table parquet file\n",
    "now = datetime.now().strftime(\"%Y-%m-%d-%H-%M-%S-%f\")\n",
    "time_table_path = 'time_table' + '.parquet' + \"_\" + now \n",
    "print(time_table_path)"
   ]
  },
  {
   "cell_type": "code",
   "execution_count": null,
   "id": "7bf691da-147a-4d87-9754-d49ce467a3fa",
   "metadata": {},
   "outputs": [],
   "source": [
    "# Write users table dataframe view to parquet file\n",
    "time_table.write.partitionBy(\"year\").parquet(\"s3://udacity-dend-mogo-output/\" + time_table_path)"
   ]
  },
  {
   "cell_type": "markdown",
   "id": "fa0837c1-b256-4fbc-87c2-ed55ef9b00d9",
   "metadata": {},
   "source": [
    "Create songplays table and write it to parquet file tables"
   ]
  },
  {
   "cell_type": "code",
   "execution_count": null,
   "id": "42323e76-d4b7-4a89-baf8-088a31702b8f",
   "metadata": {
    "tags": []
   },
   "outputs": [],
   "source": [
    "# First, join the filtered log_data dataframe with the song_data dataframe using Spark '.join' method\n",
    "\n",
    "joined_ld_sd_df = filtered_ld_df.join(df_song_data, (filtered_ld_df.artist == df_song_data.artist_name) &  (filtered_ld_df.song == df_song_data.title))\n",
    "# joined_ld_sd_df.printSchema()\n",
    "joined_ld_sd_df.show(5)"
   ]
  },
  {
   "cell_type": "code",
   "execution_count": null,
   "id": "876cb845-5c78-4cec-8a4c-388abe781729",
   "metadata": {},
   "outputs": [],
   "source": [
    "joined_ld_sd_df = joined_ld_sd_df.withColumn(\"songplay_id\", F.monotonically_increasing_id())\n",
    "\n",
    "\n",
    "joined_ld_sd_df.createOrReplaceTempView(\"songplays_table_view\")\n",
    "songplays_table = spark.sql(\"\"\"\n",
    "    SELECT  songplay_id AS songplay_id, \n",
    "            timestamp   AS start_time, \n",
    "            userId      AS user_id, \n",
    "            level       AS level,\n",
    "            song_id     AS song_id,\n",
    "            artist_id   AS artist_id,\n",
    "            sessionId   AS session_id,\n",
    "            location    AS location,\n",
    "            userAgent   AS user_agent\n",
    "    FROM songplays_table_view\n",
    "    ORDER BY (user_id, session_id) \n",
    "\"\"\")\n",
    "\n",
    "# songplays_table.printSchema()\n",
    "songplays_table.show(5)"
   ]
  },
  {
   "cell_type": "code",
   "execution_count": null,
   "id": "84c03cf7-abb9-42b9-a163-cd4642ac0dfc",
   "metadata": {},
   "outputs": [],
   "source": [
    "# create timestamp attached to each songplay table parquet file\n",
    "now = datetime.now().strftime(\"%Y-%m-%d-%H-%M-%S-%f\")\n",
    "songplay_table_path = 'songplay_table' + '.parquet' + \"_\" + now \n",
    "print(songplay_table_path)"
   ]
  },
  {
   "cell_type": "code",
   "execution_count": null,
   "id": "534c7aef-f5a8-4ce8-abf9-3f3892cc0af6",
   "metadata": {},
   "outputs": [],
   "source": [
    "# Write songplay table dataframe view to parquet file\n",
    "songplays_table.write.parquet(\"s3://udacity-dend-mogo-output/\" + songplay_table_path)"
   ]
  },
  {
   "cell_type": "code",
   "execution_count": null,
   "id": "8e93d653-dde3-4949-afa2-bb11ef29afee",
   "metadata": {},
   "outputs": [],
   "source": []
  }
 ],
 "metadata": {
  "kernelspec": {
   "display_name": "Python 3.8.10 64-bit",
   "language": "python",
   "name": "python3"
  },
  "language_info": {
   "codemirror_mode": {
    "name": "python",
    "version": 2
   },
   "mimetype": "text/x-python",
   "name": "python",
   "pygments_lexer": "python2",
   "version": "3.8.10"
  },
  "vscode": {
   "interpreter": {
    "hash": "916dbcbb3f70747c44a77c7bcd40155683ae19c65e1c03b4aa3499c5328201f1"
   }
  }
 },
 "nbformat": 4,
 "nbformat_minor": 5
}
